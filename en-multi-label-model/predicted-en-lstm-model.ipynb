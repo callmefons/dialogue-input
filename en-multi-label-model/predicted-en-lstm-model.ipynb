{
 "cells": [
  {
   "cell_type": "code",
   "execution_count": 20,
   "metadata": {},
   "outputs": [
    {
     "name": "stdout",
     "output_type": "stream",
     "text": [
      "2.3.1\n"
     ]
    },
    {
     "name": "stderr",
     "output_type": "stream",
     "text": [
      "Using TensorFlow backend.\n"
     ]
    }
   ],
   "source": [
    "import numpy as np \n",
    "import pickle\n",
    "from preprocessing import decontract, cleanPunc, keepAlpha, removeStopWords, stemming\n",
    "import tensorflow as tf\n",
    "from keras.preprocessing.sequence import pad_sequences\n",
    "\n",
    "print(tf.__version__)"
   ]
  },
  {
   "cell_type": "code",
   "execution_count": 21,
   "metadata": {},
   "outputs": [
    {
     "name": "stdout",
     "output_type": "stream",
     "text": [
      "cold make whole bodi weak\n"
     ]
    }
   ],
   "source": [
    "text = \"The cold makes my whole body weak.\"\n",
    "text = text.lower()\n",
    "text = decontract(text)\n",
    "text = cleanPunc(text)\n",
    "text = keepAlpha(text)\n",
    "text = removeStopWords(text)\n",
    "text = stemming(text)\n",
    "# text = text.split()\n",
    "print(text)"
   ]
  },
  {
   "cell_type": "markdown",
   "metadata": {},
   "source": [
    "## Load Model for Prediction"
   ]
  },
  {
   "cell_type": "code",
   "execution_count": 22,
   "metadata": {},
   "outputs": [],
   "source": [
    "model = tf.keras.models.load_model('model-GloVe-LSTM.h5')"
   ]
  },
  {
   "cell_type": "code",
   "execution_count": 23,
   "metadata": {},
   "outputs": [],
   "source": [
    "with open('tokenizer.pickle', 'rb') as handle:\n",
    "    loaded_tokenizer = pickle.load(handle)"
   ]
  },
  {
   "cell_type": "code",
   "execution_count": 24,
   "metadata": {},
   "outputs": [],
   "source": [
    "maxlen = 27"
   ]
  },
  {
   "cell_type": "code",
   "execution_count": 25,
   "metadata": {},
   "outputs": [
    {
     "data": {
      "text/plain": [
       "array([[  2,  35, 301, 169,  51,   0,   0,   0,   0,   0,   0,   0,   0,\n",
       "          0,   0,   0,   0,   0,   0,   0,   0,   0,   0,   0,   0,   0,\n",
       "          0]], dtype=int32)"
      ]
     },
     "execution_count": 25,
     "metadata": {},
     "output_type": "execute_result"
    }
   ],
   "source": [
    "seq= loaded_tokenizer.texts_to_sequences([text])\n",
    "padded = pad_sequences(seq, maxlen=maxlen, padding=\"post\")\n",
    "print(padded)"
   ]
  },
  {
   "cell_type": "code",
   "execution_count": 26,
   "metadata": {},
   "outputs": [
    {
     "name": "stdout",
     "output_type": "stream",
     "text": [
      "[False, False, False, False, False, False, False, True]\n"
     ]
    }
   ],
   "source": [
    "pred = model.predict(padded)\n",
    "pred = pred.round()\n",
    "pred = pred.astype(int)\n",
    "pred = pred[0]\n",
    "pred = [True if x==1 else False for x in pred]\n",
    "\n",
    "print(pred)"
   ]
  },
  {
   "cell_type": "code",
   "execution_count": 27,
   "metadata": {},
   "outputs": [
    {
     "name": "stdout",
     "output_type": "stream",
     "text": [
      "[{'Influenza': False}, {'Diarrhea': False}, {'Hayfever': False}, {'Cough': False}, {'Headache': False}, {'Fever': False}, {'Runnynose': False}, {'Cold': True}]\n"
     ]
    }
   ],
   "source": [
    "categories = ['Influenza', 'Diarrhea', 'Hayfever', 'Cough', 'Headache', 'Fever', 'Runnynose', 'Cold']\n",
    "labels = []\n",
    "\n",
    "for i, category in enumerate(categories):\n",
    "    wordDicts = {}\n",
    "    wordDicts[category] = pred[i]\n",
    "    labels.append(wordDicts.copy())  \n",
    "\n",
    "print(labels)    "
   ]
  },
  {
   "cell_type": "code",
   "execution_count": null,
   "metadata": {},
   "outputs": [],
   "source": []
  }
 ],
 "metadata": {
  "kernelspec": {
   "display_name": "Python 3",
   "language": "python",
   "name": "python3"
  },
  "language_info": {
   "codemirror_mode": {
    "name": "ipython",
    "version": 3
   },
   "file_extension": ".py",
   "mimetype": "text/x-python",
   "name": "python",
   "nbconvert_exporter": "python",
   "pygments_lexer": "ipython3",
   "version": "3.7.2"
  }
 },
 "nbformat": 4,
 "nbformat_minor": 2
}
