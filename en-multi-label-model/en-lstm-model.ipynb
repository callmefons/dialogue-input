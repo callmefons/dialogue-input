{
 "cells": [
  {
   "cell_type": "markdown",
   "metadata": {},
   "source": [
    "## Multi-label text classification \n",
    "This notebook demonstrates how to solve a multi-label classification problem. \n",
    "That is a classification problem where each text can have multiple class labels.\n",
    "The dataset used for this demonstration is NTCIR-13_MedWeb. For classification this dataset contains 2560 tweets and 8 classes."
   ]
  },
  {
   "cell_type": "code",
   "execution_count": 1,
   "metadata": {},
   "outputs": [
    {
     "name": "stderr",
     "output_type": "stream",
     "text": [
      "Using TensorFlow backend.\n"
     ]
    },
    {
     "name": "stdout",
     "output_type": "stream",
     "text": [
      "2.3.1\n"
     ]
    }
   ],
   "source": [
    "# linear algebra\n",
    "import numpy as np \n",
    "from numpy import array\n",
    "from numpy import asarray\n",
    "from numpy import zeros\n",
    "\n",
    "# data processing, CSV file I/O \n",
    "import pandas as pd \n",
    "\n",
    "# data visualization\n",
    "import seaborn as sns\n",
    "import matplotlib.pyplot as plt\n",
    "\n",
    "# NLP\n",
    "import nltk\n",
    "from nltk.corpus import stopwords\n",
    "from nltk.stem.snowball import SnowballStemmer\n",
    "import re\n",
    "\n",
    "# Text preprocessing\n",
    "from keras.preprocessing.text import Tokenizer\n",
    "from keras.preprocessing.sequence import pad_sequences\n",
    "\n",
    "# deep learning model\n",
    "import tensorflow as tf\n",
    "print(tf.__version__)\n",
    "from tensorflow.keras.layers import Dense, Input, Flatten\n",
    "from tensorflow.keras.layers import LSTM, Embedding\n",
    "from tensorflow.keras.models import Model\n",
    "from tensorflow.keras.callbacks import ReduceLROnPlateau, EarlyStopping, ModelCheckpoint\n",
    "\n",
    "\n",
    "# model evaluation\n",
    "from sklearn.model_selection import train_test_split\n",
    "from sklearn.metrics import (multilabel_confusion_matrix, \n",
    "                             classification_report, \n",
    "                             hamming_loss)\n",
    "\n",
    "import pickle\n",
    "import sys\n",
    "import itertools\n",
    "import warnings\n",
    "warnings.filterwarnings('ignore')\n",
    "\n"
   ]
  },
  {
   "cell_type": "code",
   "execution_count": 2,
   "metadata": {},
   "outputs": [
    {
     "name": "stdout",
     "output_type": "stream",
     "text": [
      "(2560, 10)\n"
     ]
    },
    {
     "data": {
      "text/html": [
       "<div>\n",
       "<style scoped>\n",
       "    .dataframe tbody tr th:only-of-type {\n",
       "        vertical-align: middle;\n",
       "    }\n",
       "\n",
       "    .dataframe tbody tr th {\n",
       "        vertical-align: top;\n",
       "    }\n",
       "\n",
       "    .dataframe thead th {\n",
       "        text-align: right;\n",
       "    }\n",
       "</style>\n",
       "<table border=\"1\" class=\"dataframe\">\n",
       "  <thead>\n",
       "    <tr style=\"text-align: right;\">\n",
       "      <th></th>\n",
       "      <th>ID</th>\n",
       "      <th>Tweet</th>\n",
       "      <th>Influenza</th>\n",
       "      <th>Diarrhea</th>\n",
       "      <th>Hayfever</th>\n",
       "      <th>Cough</th>\n",
       "      <th>Headache</th>\n",
       "      <th>Fever</th>\n",
       "      <th>Runnynose</th>\n",
       "      <th>Cold</th>\n",
       "    </tr>\n",
       "  </thead>\n",
       "  <tbody>\n",
       "    <tr>\n",
       "      <th>0</th>\n",
       "      <td>1en</td>\n",
       "      <td>The cold makes my whole body weak.</td>\n",
       "      <td>n</td>\n",
       "      <td>n</td>\n",
       "      <td>n</td>\n",
       "      <td>n</td>\n",
       "      <td>n</td>\n",
       "      <td>n</td>\n",
       "      <td>n</td>\n",
       "      <td>p</td>\n",
       "    </tr>\n",
       "    <tr>\n",
       "      <th>1</th>\n",
       "      <td>2en</td>\n",
       "      <td>It's been a while since I've had allergy sympt...</td>\n",
       "      <td>n</td>\n",
       "      <td>n</td>\n",
       "      <td>p</td>\n",
       "      <td>n</td>\n",
       "      <td>n</td>\n",
       "      <td>n</td>\n",
       "      <td>p</td>\n",
       "      <td>n</td>\n",
       "    </tr>\n",
       "    <tr>\n",
       "      <th>2</th>\n",
       "      <td>3en</td>\n",
       "      <td>I'm so feverish and out of it because of my al...</td>\n",
       "      <td>n</td>\n",
       "      <td>n</td>\n",
       "      <td>p</td>\n",
       "      <td>n</td>\n",
       "      <td>n</td>\n",
       "      <td>p</td>\n",
       "      <td>p</td>\n",
       "      <td>n</td>\n",
       "    </tr>\n",
       "    <tr>\n",
       "      <th>3</th>\n",
       "      <td>4en</td>\n",
       "      <td>I took some medicine for my runny nose, but it...</td>\n",
       "      <td>n</td>\n",
       "      <td>n</td>\n",
       "      <td>n</td>\n",
       "      <td>n</td>\n",
       "      <td>n</td>\n",
       "      <td>n</td>\n",
       "      <td>p</td>\n",
       "      <td>n</td>\n",
       "    </tr>\n",
       "    <tr>\n",
       "      <th>4</th>\n",
       "      <td>5en</td>\n",
       "      <td>I had a bad case of diarrhea when I traveled t...</td>\n",
       "      <td>n</td>\n",
       "      <td>n</td>\n",
       "      <td>n</td>\n",
       "      <td>n</td>\n",
       "      <td>n</td>\n",
       "      <td>n</td>\n",
       "      <td>n</td>\n",
       "      <td>n</td>\n",
       "    </tr>\n",
       "  </tbody>\n",
       "</table>\n",
       "</div>"
      ],
      "text/plain": [
       "    ID                                              Tweet Influenza Diarrhea  \\\n",
       "0  1en                 The cold makes my whole body weak.         n        n   \n",
       "1  2en  It's been a while since I've had allergy sympt...         n        n   \n",
       "2  3en  I'm so feverish and out of it because of my al...         n        n   \n",
       "3  4en  I took some medicine for my runny nose, but it...         n        n   \n",
       "4  5en  I had a bad case of diarrhea when I traveled t...         n        n   \n",
       "\n",
       "  Hayfever Cough Headache Fever Runnynose Cold  \n",
       "0        n     n        n     n         n    p  \n",
       "1        p     n        n     n         p    n  \n",
       "2        p     n        n     p         p    n  \n",
       "3        n     n        n     n         p    n  \n",
       "4        n     n        n     n         n    n  "
      ]
     },
     "execution_count": 2,
     "metadata": {},
     "output_type": "execute_result"
    }
   ],
   "source": [
    "df1 = pd.read_csv(\"MedWeb_TestCollection/NTCIR-13_MedWeb_en_training.csv\", encoding = \"ISO-8859-1\")\n",
    "df2 = pd.read_csv(\"MedWeb_TestCollection/NTCIR-13_MedWeb_en_test.csv\", encoding = \"ISO-8859-1\")\n",
    "df = pd.concat([df1, df2])\n",
    "\n",
    "df.dropna(inplace=True)\n",
    "df.reset_index(drop=True, inplace=True)\n",
    "\n",
    "print(df.shape)\n",
    "df1.head()"
   ]
  },
  {
   "cell_type": "code",
   "execution_count": 3,
   "metadata": {},
   "outputs": [
    {
     "data": {
      "text/html": [
       "<div>\n",
       "<style scoped>\n",
       "    .dataframe tbody tr th:only-of-type {\n",
       "        vertical-align: middle;\n",
       "    }\n",
       "\n",
       "    .dataframe tbody tr th {\n",
       "        vertical-align: top;\n",
       "    }\n",
       "\n",
       "    .dataframe thead th {\n",
       "        text-align: right;\n",
       "    }\n",
       "</style>\n",
       "<table border=\"1\" class=\"dataframe\">\n",
       "  <thead>\n",
       "    <tr style=\"text-align: right;\">\n",
       "      <th></th>\n",
       "      <th>ID</th>\n",
       "      <th>Tweet</th>\n",
       "      <th>Influenza</th>\n",
       "      <th>Diarrhea</th>\n",
       "      <th>Hayfever</th>\n",
       "      <th>Cough</th>\n",
       "      <th>Headache</th>\n",
       "      <th>Fever</th>\n",
       "      <th>Runnynose</th>\n",
       "      <th>Cold</th>\n",
       "    </tr>\n",
       "  </thead>\n",
       "  <tbody>\n",
       "    <tr>\n",
       "      <th>0</th>\n",
       "      <td>1en</td>\n",
       "      <td>The cold makes my whole body weak.</td>\n",
       "      <td>0</td>\n",
       "      <td>0</td>\n",
       "      <td>0</td>\n",
       "      <td>0</td>\n",
       "      <td>0</td>\n",
       "      <td>0</td>\n",
       "      <td>0</td>\n",
       "      <td>1</td>\n",
       "    </tr>\n",
       "    <tr>\n",
       "      <th>1</th>\n",
       "      <td>2en</td>\n",
       "      <td>It's been a while since I've had allergy sympt...</td>\n",
       "      <td>0</td>\n",
       "      <td>0</td>\n",
       "      <td>1</td>\n",
       "      <td>0</td>\n",
       "      <td>0</td>\n",
       "      <td>0</td>\n",
       "      <td>1</td>\n",
       "      <td>0</td>\n",
       "    </tr>\n",
       "    <tr>\n",
       "      <th>2</th>\n",
       "      <td>3en</td>\n",
       "      <td>I'm so feverish and out of it because of my al...</td>\n",
       "      <td>0</td>\n",
       "      <td>0</td>\n",
       "      <td>1</td>\n",
       "      <td>0</td>\n",
       "      <td>0</td>\n",
       "      <td>1</td>\n",
       "      <td>1</td>\n",
       "      <td>0</td>\n",
       "    </tr>\n",
       "    <tr>\n",
       "      <th>3</th>\n",
       "      <td>4en</td>\n",
       "      <td>I took some medicine for my runny nose, but it...</td>\n",
       "      <td>0</td>\n",
       "      <td>0</td>\n",
       "      <td>0</td>\n",
       "      <td>0</td>\n",
       "      <td>0</td>\n",
       "      <td>0</td>\n",
       "      <td>1</td>\n",
       "      <td>0</td>\n",
       "    </tr>\n",
       "    <tr>\n",
       "      <th>4</th>\n",
       "      <td>5en</td>\n",
       "      <td>I had a bad case of diarrhea when I traveled t...</td>\n",
       "      <td>0</td>\n",
       "      <td>0</td>\n",
       "      <td>0</td>\n",
       "      <td>0</td>\n",
       "      <td>0</td>\n",
       "      <td>0</td>\n",
       "      <td>0</td>\n",
       "      <td>0</td>\n",
       "    </tr>\n",
       "  </tbody>\n",
       "</table>\n",
       "</div>"
      ],
      "text/plain": [
       "    ID                                              Tweet  Influenza  \\\n",
       "0  1en                 The cold makes my whole body weak.          0   \n",
       "1  2en  It's been a while since I've had allergy sympt...          0   \n",
       "2  3en  I'm so feverish and out of it because of my al...          0   \n",
       "3  4en  I took some medicine for my runny nose, but it...          0   \n",
       "4  5en  I had a bad case of diarrhea when I traveled t...          0   \n",
       "\n",
       "   Diarrhea  Hayfever  Cough  Headache  Fever  Runnynose  Cold  \n",
       "0         0         0      0         0      0          0     1  \n",
       "1         0         1      0         0      0          1     0  \n",
       "2         0         1      0         0      1          1     0  \n",
       "3         0         0      0         0      0          1     0  \n",
       "4         0         0      0         0      0          0     0  "
      ]
     },
     "execution_count": 3,
     "metadata": {},
     "output_type": "execute_result"
    }
   ],
   "source": [
    "df = df.replace(['n'],0)\n",
    "df = df.replace(['p'],1)\n",
    "df.head()"
   ]
  },
  {
   "cell_type": "code",
   "execution_count": 46,
   "metadata": {},
   "outputs": [
    {
     "data": {
      "text/plain": [
       "'sinc allergi symptom'"
      ]
     },
     "execution_count": 46,
     "metadata": {},
     "output_type": "execute_result"
    }
   ],
   "source": [
    "df.iloc[1].Tweet"
   ]
  },
  {
   "cell_type": "markdown",
   "metadata": {},
   "source": [
    "## EDA - Exploratory data analysis"
   ]
  },
  {
   "cell_type": "code",
   "execution_count": 5,
   "metadata": {},
   "outputs": [],
   "source": [
    "# Set size and color for plots\n",
    "sns.reset_defaults()\n",
    "sns.set(\n",
    "    rc={'figure.figsize':(4,4)},\n",
    "    style=\"darkgrid\",\n",
    "    palette=\"Set2\",\n",
    "    font_scale=1)\n",
    "\n",
    "%matplotlib inline"
   ]
  },
  {
   "cell_type": "code",
   "execution_count": 6,
   "metadata": {},
   "outputs": [
    {
     "data": {
      "text/plain": [
       "array(['Influenza', 'Diarrhea', 'Hayfever', 'Cough', 'Headache', 'Fever',\n",
       "       'Runnynose', 'Cold'], dtype=object)"
      ]
     },
     "execution_count": 6,
     "metadata": {},
     "output_type": "execute_result"
    }
   ],
   "source": [
    "categories = df.iloc[:,2:].columns.values\n",
    "categories"
   ]
  },
  {
   "cell_type": "code",
   "execution_count": 7,
   "metadata": {},
   "outputs": [
    {
     "data": {
      "text/html": [
       "<div>\n",
       "<style scoped>\n",
       "    .dataframe tbody tr th:only-of-type {\n",
       "        vertical-align: middle;\n",
       "    }\n",
       "\n",
       "    .dataframe tbody tr th {\n",
       "        vertical-align: top;\n",
       "    }\n",
       "\n",
       "    .dataframe thead th {\n",
       "        text-align: right;\n",
       "    }\n",
       "</style>\n",
       "<table border=\"1\" class=\"dataframe\">\n",
       "  <thead>\n",
       "    <tr style=\"text-align: right;\">\n",
       "      <th></th>\n",
       "      <th>category</th>\n",
       "      <th>number_of_tweets</th>\n",
       "    </tr>\n",
       "  </thead>\n",
       "  <tbody>\n",
       "    <tr>\n",
       "      <th>0</th>\n",
       "      <td>Influenza</td>\n",
       "      <td>130</td>\n",
       "    </tr>\n",
       "    <tr>\n",
       "      <th>1</th>\n",
       "      <td>Diarrhea</td>\n",
       "      <td>246</td>\n",
       "    </tr>\n",
       "    <tr>\n",
       "      <th>2</th>\n",
       "      <td>Hayfever</td>\n",
       "      <td>209</td>\n",
       "    </tr>\n",
       "    <tr>\n",
       "      <th>3</th>\n",
       "      <td>Cough</td>\n",
       "      <td>307</td>\n",
       "    </tr>\n",
       "    <tr>\n",
       "      <th>4</th>\n",
       "      <td>Headache</td>\n",
       "      <td>328</td>\n",
       "    </tr>\n",
       "    <tr>\n",
       "      <th>5</th>\n",
       "      <td>Fever</td>\n",
       "      <td>438</td>\n",
       "    </tr>\n",
       "    <tr>\n",
       "      <th>6</th>\n",
       "      <td>Runnynose</td>\n",
       "      <td>498</td>\n",
       "    </tr>\n",
       "    <tr>\n",
       "      <th>7</th>\n",
       "      <td>Cold</td>\n",
       "      <td>355</td>\n",
       "    </tr>\n",
       "  </tbody>\n",
       "</table>\n",
       "</div>"
      ],
      "text/plain": [
       "    category  number_of_tweets\n",
       "0  Influenza               130\n",
       "1   Diarrhea               246\n",
       "2   Hayfever               209\n",
       "3      Cough               307\n",
       "4   Headache               328\n",
       "5      Fever               438\n",
       "6  Runnynose               498\n",
       "7       Cold               355"
      ]
     },
     "execution_count": 7,
     "metadata": {},
     "output_type": "execute_result"
    }
   ],
   "source": [
    "df_symptom = df.drop(['ID', 'Tweet'], axis=1)\n",
    "counts = []\n",
    "for i in list(df_symptom.columns.values):\n",
    "    counts.append((i, df_symptom[i].sum()))\n",
    "df_stats = pd.DataFrame(counts, columns=['category', 'number_of_tweets'])\n",
    "df_stats"
   ]
  },
  {
   "cell_type": "code",
   "execution_count": 8,
   "metadata": {},
   "outputs": [
    {
     "data": {
      "text/plain": [
       "Text(0.5,0,'category')"
      ]
     },
     "execution_count": 8,
     "metadata": {},
     "output_type": "execute_result"
    },
    {
     "data": {
      "image/png": "[encoded data removed]",
      "text/plain": [
       "<Figure size 432x288 with 1 Axes>"
      ]
     },
     "metadata": {
      "needs_background": "light"
     },
     "output_type": "display_data"
    }
   ],
   "source": [
    "df_stats.plot(x='category', y='number_of_tweets', kind='bar', legend=False)\n",
    "plt.title(\"Number of tweets per category\")\n",
    "plt.ylabel('# of Occurrences')\n",
    "plt.xlabel('category')"
   ]
  },
  {
   "cell_type": "code",
   "execution_count": 9,
   "metadata": {},
   "outputs": [
    {
     "data": {
      "text/plain": [
       "Text(0.5,0,'# of categories')"
      ]
     },
     "execution_count": 9,
     "metadata": {},
     "output_type": "execute_result"
    },
    {
     "data": {
      "image/png": "[encoded data removed]",
      "text/plain": [
       "<Figure size 432x288 with 1 Axes>"
      ]
     },
     "metadata": {
      "needs_background": "light"
     },
     "output_type": "display_data"
    }
   ],
   "source": [
    "rowsums = df.iloc[:,2:].sum(axis=1)\n",
    "x=rowsums.value_counts()\n",
    "\n",
    "ax = sns.barplot(x.index, x.values)\n",
    "plt.title(\"Multiple categories per tweets\")\n",
    "plt.ylabel('# of Occurrences')\n",
    "plt.xlabel('# of categories')"
   ]
  },
  {
   "cell_type": "code",
   "execution_count": 10,
   "metadata": {},
   "outputs": [
    {
     "data": {
      "text/plain": [
       "Text(0.5,0,'Document length')"
      ]
     },
     "execution_count": 10,
     "metadata": {},
     "output_type": "execute_result"
    },
    {
     "data": {
      "image/png": "[encoded data removed]",
      "text/plain": [
       "<Figure size 432x288 with 1 Axes>"
      ]
     },
     "metadata": {
      "needs_background": "light"
     },
     "output_type": "display_data"
    }
   ],
   "source": [
    "lens = df.Tweet.str.len()\n",
    "lens.hist(bins = np.arange(0,200,20))\n",
    "plt.xlabel('Document length')"
   ]
  },
  {
   "cell_type": "code",
   "execution_count": 11,
   "metadata": {},
   "outputs": [
    {
     "data": {
      "text/html": [
       "<div>\n",
       "<style scoped>\n",
       "    .dataframe tbody tr th:only-of-type {\n",
       "        vertical-align: middle;\n",
       "    }\n",
       "\n",
       "    .dataframe tbody tr th {\n",
       "        vertical-align: top;\n",
       "    }\n",
       "\n",
       "    .dataframe thead th {\n",
       "        text-align: right;\n",
       "    }\n",
       "</style>\n",
       "<table border=\"1\" class=\"dataframe\">\n",
       "  <thead>\n",
       "    <tr style=\"text-align: right;\">\n",
       "      <th></th>\n",
       "      <th>cat</th>\n",
       "      <th>count</th>\n",
       "    </tr>\n",
       "  </thead>\n",
       "  <tbody>\n",
       "    <tr>\n",
       "      <th>0</th>\n",
       "      <td>Runnynose</td>\n",
       "      <td>498</td>\n",
       "    </tr>\n",
       "    <tr>\n",
       "      <th>1</th>\n",
       "      <td>Fever</td>\n",
       "      <td>438</td>\n",
       "    </tr>\n",
       "    <tr>\n",
       "      <th>2</th>\n",
       "      <td>Cold</td>\n",
       "      <td>355</td>\n",
       "    </tr>\n",
       "    <tr>\n",
       "      <th>3</th>\n",
       "      <td>Headache</td>\n",
       "      <td>328</td>\n",
       "    </tr>\n",
       "    <tr>\n",
       "      <th>4</th>\n",
       "      <td>Cough</td>\n",
       "      <td>307</td>\n",
       "    </tr>\n",
       "    <tr>\n",
       "      <th>5</th>\n",
       "      <td>Diarrhea</td>\n",
       "      <td>246</td>\n",
       "    </tr>\n",
       "    <tr>\n",
       "      <th>6</th>\n",
       "      <td>Hayfever</td>\n",
       "      <td>209</td>\n",
       "    </tr>\n",
       "    <tr>\n",
       "      <th>7</th>\n",
       "      <td>Influenza</td>\n",
       "      <td>130</td>\n",
       "    </tr>\n",
       "  </tbody>\n",
       "</table>\n",
       "</div>"
      ],
      "text/plain": [
       "         cat  count\n",
       "0  Runnynose    498\n",
       "1      Fever    438\n",
       "2       Cold    355\n",
       "3   Headache    328\n",
       "4      Cough    307\n",
       "5   Diarrhea    246\n",
       "6   Hayfever    209\n",
       "7  Influenza    130"
      ]
     },
     "execution_count": 11,
     "metadata": {},
     "output_type": "execute_result"
    }
   ],
   "source": [
    "most_common_cat = pd.DataFrame()\n",
    "most_common_cat['cat'] = df.columns[2:]\n",
    "most_common_cat['count'] = df.iloc[:,2:].sum().values\n",
    "most_common_cat.sort_values(['count'], inplace=True, ascending=False)\n",
    "most_common_cat.reset_index(inplace=True, drop=True)\n",
    "most_common_cat.head(len(categories))"
   ]
  },
  {
   "cell_type": "code",
   "execution_count": 12,
   "metadata": {},
   "outputs": [
    {
     "data": {
      "text/html": [
       "<div>\n",
       "<style scoped>\n",
       "    .dataframe tbody tr th:only-of-type {\n",
       "        vertical-align: middle;\n",
       "    }\n",
       "\n",
       "    .dataframe tbody tr th {\n",
       "        vertical-align: top;\n",
       "    }\n",
       "\n",
       "    .dataframe thead th {\n",
       "        text-align: right;\n",
       "    }\n",
       "</style>\n",
       "<table border=\"1\" class=\"dataframe\">\n",
       "  <thead>\n",
       "    <tr style=\"text-align: right;\">\n",
       "      <th></th>\n",
       "      <th>cat</th>\n",
       "      <th>count</th>\n",
       "      <th>class_weight</th>\n",
       "    </tr>\n",
       "  </thead>\n",
       "  <tbody>\n",
       "    <tr>\n",
       "      <th>0</th>\n",
       "      <td>Runnynose</td>\n",
       "      <td>498</td>\n",
       "      <td>0.016064</td>\n",
       "    </tr>\n",
       "    <tr>\n",
       "      <th>1</th>\n",
       "      <td>Fever</td>\n",
       "      <td>438</td>\n",
       "      <td>0.018265</td>\n",
       "    </tr>\n",
       "    <tr>\n",
       "      <th>2</th>\n",
       "      <td>Cold</td>\n",
       "      <td>355</td>\n",
       "      <td>0.022535</td>\n",
       "    </tr>\n",
       "    <tr>\n",
       "      <th>3</th>\n",
       "      <td>Headache</td>\n",
       "      <td>328</td>\n",
       "      <td>0.024390</td>\n",
       "    </tr>\n",
       "    <tr>\n",
       "      <th>4</th>\n",
       "      <td>Cough</td>\n",
       "      <td>307</td>\n",
       "      <td>0.026059</td>\n",
       "    </tr>\n",
       "  </tbody>\n",
       "</table>\n",
       "</div>"
      ],
      "text/plain": [
       "         cat  count  class_weight\n",
       "0  Runnynose    498      0.016064\n",
       "1      Fever    438      0.018265\n",
       "2       Cold    355      0.022535\n",
       "3   Headache    328      0.024390\n",
       "4      Cough    307      0.026059"
      ]
     },
     "execution_count": 12,
     "metadata": {},
     "output_type": "execute_result"
    }
   ],
   "source": [
    "# Check the class imbalance problem\n",
    "most_common_cat['class_weight'] = len(most_common_cat) / most_common_cat['count']\n",
    "class_weight = {}\n",
    "for index, label in enumerate(categories):\n",
    "    class_weight[index] = most_common_cat[most_common_cat['cat'] == label]['class_weight'].values[0]\n",
    "    \n",
    "most_common_cat.head()"
   ]
  },
  {
   "cell_type": "markdown",
   "metadata": {},
   "source": [
    "## Text preprocessing"
   ]
  },
  {
   "cell_type": "code",
   "execution_count": 13,
   "metadata": {},
   "outputs": [],
   "source": [
    "# Dealing with contractions (e.g., “won't” decontracted to “will not”)\n",
    "def decontract(sentence):\n",
    "    # specific\n",
    "    sentence = re.sub(r\"won't\", \"will not\", sentence)\n",
    "    sentence = re.sub(r\"can\\'t\", \"can not\", sentence)\n",
    "\n",
    "    # general\n",
    "    sentence = re.sub(r\"n\\'t\", \" not\", sentence)\n",
    "    sentence = re.sub(r\"\\'re\", \" are\", sentence)\n",
    "    sentence = re.sub(r\"\\'s\", \" is\", sentence)\n",
    "    sentence = re.sub(r\"\\'d\", \" would\", sentence)\n",
    "    sentence = re.sub(r\"\\'ll\", \" will\", sentence)\n",
    "    sentence = re.sub(r\"\\'t\", \" not\", sentence)\n",
    "    sentence = re.sub(r\"\\'ve\", \" have\", sentence)\n",
    "    sentence = re.sub(r\"\\'m\", \" am\", sentence)\n",
    "    return sentence\n",
    "\n",
    "# Remove punctuation (e.g., Comma, Semicolon, and Colon)\n",
    "def cleanPunc(sentence): \n",
    "    cleaned = re.sub(r'[?|!|\\'|\"|#]',r'',sentence)\n",
    "    cleaned = re.sub(r'[.|,|)|(|\\|/]',r' ',cleaned)\n",
    "    cleaned = cleaned.strip()\n",
    "    cleaned = cleaned.replace(\"\\n\",\" \")\n",
    "    return cleaned\n",
    "\n",
    "# Remove non-alphabetic characters\n",
    "def keepAlpha(sentence):\n",
    "    alpha_sent = \"\"\n",
    "    for word in sentence.split():\n",
    "        alpha_word = re.sub('[^a-z A-Z]+', '', word)\n",
    "        alpha_sent += alpha_word\n",
    "        alpha_sent += \" \"\n",
    "    alpha_sent = alpha_sent.strip()\n",
    "    return alpha_sent\n",
    "\n",
    "# Remove stop words (e.g., “the”, “a”, “an”, “in”) \n",
    "def removeStopWords(sentence):\n",
    "    global re_stop_words\n",
    "    return re_stop_words.sub(\"\", sentence)"
   ]
  },
  {
   "cell_type": "code",
   "execution_count": 14,
   "metadata": {},
   "outputs": [],
   "source": [
    "stopwords= set(['br', 'the', 'i', 'me', 'my', 'myself', 'we', 'our', 'ours', 'ourselves', 'you', \"you're\", \"you've\",\\\n",
    "            \"you'll\", \"you'd\", 'your', 'yours', 'yourself', 'yourselves', 'he', 'him', 'his', 'himself', \\\n",
    "            'she', \"she's\", 'her', 'hers', 'herself', 'it', \"it's\", 'its', 'itself', 'they', 'them', 'their',\\\n",
    "            'theirs', 'themselves', 'what', 'which', 'who', 'whom', 'this', 'that', \"that'll\", 'these', 'those', \\\n",
    "            'am', 'is', 'are', 'was', 'were', 'be', 'been', 'being', 'have', 'has', 'had', 'having', 'do', 'does', \\\n",
    "            'did', 'doing', 'a', 'an', 'the', 'and', 'but', 'if', 'or', 'because', 'as', 'until', 'while', 'of', \\\n",
    "            'at', 'by', 'for', 'with', 'about', 'against', 'between', 'into', 'through', 'during', 'before', 'after',\\\n",
    "            'above', 'below', 'to', 'from', 'up', 'down', 'in', 'out', 'on', 'off', 'over', 'under', 'again', 'further',\\\n",
    "            'then', 'once', 'here', 'there', 'when', 'where', 'why', 'how', 'all', 'any', 'both', 'each', 'few', 'more',\\\n",
    "            'most', 'other', 'some', 'such', 'only', 'own', 'same', 'so', 'than', 'too', 'very', \\\n",
    "            's', 't', 'can', 'will', 'just', 'don', \"don't\", 'should', \"should've\", 'now', 'd', 'll', 'm', 'o', 're', \\\n",
    "            've', 'y', 'ain', 'aren', \"aren't\", 'couldn', \"couldn't\", 'didn', \"didn't\", 'doesn', \"doesn't\", 'hadn',\\\n",
    "            \"hadn't\", 'hasn', \"hasn't\", 'haven', \"haven't\", 'isn', \"isn't\", 'ma', 'mightn', \"mightn't\", 'mustn',\\\n",
    "            \"mustn't\", 'needn', \"needn't\", 'shan', \"shan't\", 'shouldn', \"shouldn't\", 'wasn', \"wasn't\", 'weren', \"weren't\", \\\n",
    "            'won', \"won't\", 'wouldn', \"wouldn't\"])\n",
    "\n",
    "re_stop_words = re.compile(r\"\\b(\" + \"|\".join(stopwords) + \")\\\\W\", re.I)"
   ]
  },
  {
   "cell_type": "code",
   "execution_count": 15,
   "metadata": {},
   "outputs": [],
   "source": [
    "# Reduce a word to its stem or root format (e.g., “started” reduced to “start”) \n",
    "stemmer = SnowballStemmer(\"english\")\n",
    "def stemming(sentence):\n",
    "    stemSentence = \"\"\n",
    "    for word in sentence.split():\n",
    "        stem = stemmer.stem(word)\n",
    "        stemSentence += stem\n",
    "        stemSentence += \" \"\n",
    "    stemSentence = stemSentence.strip()\n",
    "    return stemSentence"
   ]
  },
  {
   "cell_type": "code",
   "execution_count": 16,
   "metadata": {},
   "outputs": [
    {
     "data": {
      "text/html": [
       "<div>\n",
       "<style scoped>\n",
       "    .dataframe tbody tr th:only-of-type {\n",
       "        vertical-align: middle;\n",
       "    }\n",
       "\n",
       "    .dataframe tbody tr th {\n",
       "        vertical-align: top;\n",
       "    }\n",
       "\n",
       "    .dataframe thead th {\n",
       "        text-align: right;\n",
       "    }\n",
       "</style>\n",
       "<table border=\"1\" class=\"dataframe\">\n",
       "  <thead>\n",
       "    <tr style=\"text-align: right;\">\n",
       "      <th></th>\n",
       "      <th>ID</th>\n",
       "      <th>Tweet</th>\n",
       "      <th>Influenza</th>\n",
       "      <th>Diarrhea</th>\n",
       "      <th>Hayfever</th>\n",
       "      <th>Cough</th>\n",
       "      <th>Headache</th>\n",
       "      <th>Fever</th>\n",
       "      <th>Runnynose</th>\n",
       "      <th>Cold</th>\n",
       "    </tr>\n",
       "  </thead>\n",
       "  <tbody>\n",
       "    <tr>\n",
       "      <th>0</th>\n",
       "      <td>1en</td>\n",
       "      <td>cold make whole bodi weak</td>\n",
       "      <td>0</td>\n",
       "      <td>0</td>\n",
       "      <td>0</td>\n",
       "      <td>0</td>\n",
       "      <td>0</td>\n",
       "      <td>0</td>\n",
       "      <td>0</td>\n",
       "      <td>1</td>\n",
       "    </tr>\n",
       "    <tr>\n",
       "      <th>1</th>\n",
       "      <td>2en</td>\n",
       "      <td>sinc allergi symptom</td>\n",
       "      <td>0</td>\n",
       "      <td>0</td>\n",
       "      <td>1</td>\n",
       "      <td>0</td>\n",
       "      <td>0</td>\n",
       "      <td>0</td>\n",
       "      <td>1</td>\n",
       "      <td>0</td>\n",
       "    </tr>\n",
       "    <tr>\n",
       "      <th>2</th>\n",
       "      <td>3en</td>\n",
       "      <td>feverish allergi sleepi</td>\n",
       "      <td>0</td>\n",
       "      <td>0</td>\n",
       "      <td>1</td>\n",
       "      <td>0</td>\n",
       "      <td>0</td>\n",
       "      <td>1</td>\n",
       "      <td>1</td>\n",
       "      <td>0</td>\n",
       "    </tr>\n",
       "    <tr>\n",
       "      <th>3</th>\n",
       "      <td>4en</td>\n",
       "      <td>took medicin runni nose not stop</td>\n",
       "      <td>0</td>\n",
       "      <td>0</td>\n",
       "      <td>0</td>\n",
       "      <td>0</td>\n",
       "      <td>0</td>\n",
       "      <td>0</td>\n",
       "      <td>1</td>\n",
       "      <td>0</td>\n",
       "    </tr>\n",
       "    <tr>\n",
       "      <th>4</th>\n",
       "      <td>5en</td>\n",
       "      <td>bad case diarrhea travel nepal</td>\n",
       "      <td>0</td>\n",
       "      <td>0</td>\n",
       "      <td>0</td>\n",
       "      <td>0</td>\n",
       "      <td>0</td>\n",
       "      <td>0</td>\n",
       "      <td>0</td>\n",
       "      <td>0</td>\n",
       "    </tr>\n",
       "  </tbody>\n",
       "</table>\n",
       "</div>"
      ],
      "text/plain": [
       "    ID                             Tweet  Influenza  Diarrhea  Hayfever  \\\n",
       "0  1en         cold make whole bodi weak          0         0         0   \n",
       "1  2en              sinc allergi symptom          0         0         1   \n",
       "2  3en           feverish allergi sleepi          0         0         1   \n",
       "3  4en  took medicin runni nose not stop          0         0         0   \n",
       "4  5en    bad case diarrhea travel nepal          0         0         0   \n",
       "\n",
       "   Cough  Headache  Fever  Runnynose  Cold  \n",
       "0      0         0      0          0     1  \n",
       "1      0         0      0          1     0  \n",
       "2      0         0      1          1     0  \n",
       "3      0         0      0          1     0  \n",
       "4      0         0      0          0     0  "
      ]
     },
     "execution_count": 16,
     "metadata": {},
     "output_type": "execute_result"
    }
   ],
   "source": [
    "df['Tweet'] = df['Tweet'].str.lower()\n",
    "df['Tweet'] = df['Tweet'].apply(decontract)\n",
    "df['Tweet'] = df['Tweet'].apply(cleanPunc)\n",
    "df['Tweet'] = df['Tweet'].apply(keepAlpha)\n",
    "df['Tweet'] = df['Tweet'].apply(removeStopWords)\n",
    "df['Tweet'] = df['Tweet'].apply(stemming)\n",
    "df.head()"
   ]
  },
  {
   "cell_type": "markdown",
   "metadata": {},
   "source": [
    "## Feature extraction"
   ]
  },
  {
   "cell_type": "code",
   "execution_count": 17,
   "metadata": {},
   "outputs": [
    {
     "name": "stdout",
     "output_type": "stream",
     "text": [
      "2483\n",
      "27\n"
     ]
    }
   ],
   "source": [
    "words = list(set(df[\"Tweet\"].values))\n",
    "num_words = len(words)\n",
    "\n",
    "maxlen = df.copy()\n",
    "maxlen['len'] = df.Tweet.apply(lambda x: len(x.split()))\n",
    "maxlen = maxlen['len'].max()\n",
    "\n",
    "print(num_words)\n",
    "print(maxlen)"
   ]
  },
  {
   "cell_type": "code",
   "execution_count": 18,
   "metadata": {},
   "outputs": [
    {
     "name": "stdout",
     "output_type": "stream",
     "text": [
      "[  2  35 301 169  51   0   0   0   0   0   0   0   0   0   0   0   0   0\n",
      "   0   0   0   0   0   0   0   0   0]\n"
     ]
    }
   ],
   "source": [
    "# Transforms each text in texts to a sequence of integers\n",
    "tokenizer = Tokenizer(num_words=num_words, lower=True)\n",
    "tokenizer.fit_on_texts(df['Tweet'])\n",
    "sequences = tokenizer.texts_to_sequences(df['Tweet'])\n",
    "x = pad_sequences(sequences, maxlen=maxlen, padding=\"post\")\n",
    "print(x[0])"
   ]
  },
  {
   "cell_type": "code",
   "execution_count": 19,
   "metadata": {},
   "outputs": [],
   "source": [
    "with open('en-tokenizer.pickle', 'wb') as handle:\n",
    "    pickle.dump(tokenizer, handle, protocol=pickle.HIGHEST_PROTOCOL)"
   ]
  },
  {
   "cell_type": "code",
   "execution_count": 20,
   "metadata": {},
   "outputs": [],
   "source": [
    "# Split arrays into random train and test subsets\n",
    "X_train, X_test, y_train, y_test = train_test_split(x, \n",
    "                                                    df[df.columns[2:]], \n",
    "                                                    test_size=0.1, \n",
    "                                                    random_state=135)"
   ]
  },
  {
   "cell_type": "code",
   "execution_count": 21,
   "metadata": {},
   "outputs": [],
   "source": [
    "max_words = len(tokenizer.word_index) + 1\n",
    "emd_size = 50"
   ]
  },
  {
   "cell_type": "code",
   "execution_count": 22,
   "metadata": {},
   "outputs": [],
   "source": [
    "# Create the embedding matrix using GloVe, pre-trained word vectors (https://nlp.stanford.edu/projects/glove/)\n",
    "embeddings_dictionary = dict()\n",
    "glove_file = open('glove.6B.50d.txt', encoding=\"utf8\")\n",
    "\n",
    "for line in glove_file:\n",
    "    records = line.split()\n",
    "    word = records[0]\n",
    "    vector_dimensions = asarray(records[1:], dtype='float32')\n",
    "    embeddings_dictionary[word] = vector_dimensions\n",
    "glove_file.close()\n",
    "\n",
    "embedding_matrix = zeros((max_words, emd_size))\n",
    "for word, index in tokenizer.word_index.items():\n",
    "    embedding_vector = embeddings_dictionary.get(word)\n",
    "    if embedding_vector is not None:\n",
    "        embedding_matrix[index] = embedding_vector"
   ]
  },
  {
   "cell_type": "markdown",
   "metadata": {},
   "source": [
    "## Create and train a model"
   ]
  },
  {
   "cell_type": "code",
   "execution_count": 23,
   "metadata": {},
   "outputs": [],
   "source": [
    "num_classes = len(categories)\n",
    "batch_size = 32 \n",
    "epochs = 30"
   ]
  },
  {
   "cell_type": "code",
   "execution_count": 24,
   "metadata": {
    "scrolled": true
   },
   "outputs": [],
   "source": [
    "# Create a LSTM model\n",
    "deep_inputs = Input(shape=(maxlen,))\n",
    "embedding_layer = Embedding(max_words, emd_size, weights=[embedding_matrix], trainable=False)(deep_inputs)\n",
    "LSTM_Layer_1 = LSTM(128)(embedding_layer)\n",
    "dense_layer_1 = Dense(num_classes, activation='sigmoid')(LSTM_Layer_1)\n",
    "model = Model(inputs=deep_inputs, outputs=dense_layer_1)\n",
    "\n",
    "callbacks = [\n",
    "#     EarlyStopping(),\n",
    "#     ReduceLROnPlateau(),\n",
    "    ModelCheckpoint(filepath='en-model-GloVe-LSTM.h5', save_best_only=True)\n",
    "]\n",
    "\n",
    "model.compile(loss='binary_crossentropy', optimizer='adam', metrics=[tf.keras.metrics.AUC()])"
   ]
  },
  {
   "cell_type": "code",
   "execution_count": 25,
   "metadata": {
    "scrolled": true
   },
   "outputs": [
    {
     "name": "stdout",
     "output_type": "stream",
     "text": [
      "Epoch 1/30\n",
      "65/65 [==============================] - 2s 38ms/step - loss: 0.4082 - auc: 0.5721 - val_loss: 0.3514 - val_auc: 0.5983\n",
      "Epoch 2/30\n",
      "65/65 [==============================] - 2s 24ms/step - loss: 0.3657 - auc: 0.6059 - val_loss: 0.3540 - val_auc: 0.6060\n",
      "Epoch 3/30\n",
      "65/65 [==============================] - 2s 25ms/step - loss: 0.3491 - auc: 0.6942 - val_loss: 0.3135 - val_auc: 0.7575\n",
      "Epoch 4/30\n",
      "65/65 [==============================] - 2s 30ms/step - loss: 0.3202 - auc: 0.7721 - val_loss: 0.3129 - val_auc: 0.7543\n",
      "Epoch 5/30\n",
      "65/65 [==============================] - 2s 29ms/step - loss: 0.3119 - auc: 0.7874 - val_loss: 0.3063 - val_auc: 0.7788\n",
      "Epoch 6/30\n",
      "65/65 [==============================] - 2s 38ms/step - loss: 0.3093 - auc: 0.7924 - val_loss: 0.3005 - val_auc: 0.7845\n",
      "Epoch 7/30\n",
      "65/65 [==============================] - 2s 38ms/step - loss: 0.2949 - auc: 0.8227 - val_loss: 0.2834 - val_auc: 0.8270\n",
      "Epoch 8/30\n",
      "65/65 [==============================] - 2s 32ms/step - loss: 0.2735 - auc: 0.8590 - val_loss: 0.2602 - val_auc: 0.8617\n",
      "Epoch 9/30\n",
      "65/65 [==============================] - 2s 28ms/step - loss: 0.2507 - auc: 0.8884 - val_loss: 0.2254 - val_auc: 0.9072\n",
      "Epoch 10/30\n",
      "65/65 [==============================] - 2s 26ms/step - loss: 0.2098 - auc: 0.9269 - val_loss: 0.2028 - val_auc: 0.9243\n",
      "Epoch 11/30\n",
      "65/65 [==============================] - 2s 25ms/step - loss: 0.1868 - auc: 0.9408 - val_loss: 0.1719 - val_auc: 0.9518\n",
      "Epoch 12/30\n",
      "65/65 [==============================] - 2s 35ms/step - loss: 0.1723 - auc: 0.9498 - val_loss: 0.1721 - val_auc: 0.9529\n",
      "Epoch 13/30\n",
      "65/65 [==============================] - 2s 25ms/step - loss: 0.1633 - auc: 0.9561 - val_loss: 0.1661 - val_auc: 0.9560\n",
      "Epoch 14/30\n",
      "65/65 [==============================] - 2s 24ms/step - loss: 0.1532 - auc: 0.9617 - val_loss: 0.1603 - val_auc: 0.9614\n",
      "Epoch 15/30\n",
      "65/65 [==============================] - 2s 26ms/step - loss: 0.1471 - auc: 0.9649 - val_loss: 0.1493 - val_auc: 0.9640\n",
      "Epoch 16/30\n",
      "65/65 [==============================] - 2s 25ms/step - loss: 0.1322 - auc: 0.9720 - val_loss: 0.1498 - val_auc: 0.9619\n",
      "Epoch 17/30\n",
      "65/65 [==============================] - 2s 28ms/step - loss: 0.1300 - auc: 0.9723 - val_loss: 0.1526 - val_auc: 0.9627\n",
      "Epoch 18/30\n",
      "65/65 [==============================] - 2s 31ms/step - loss: 0.1193 - auc: 0.9764 - val_loss: 0.1562 - val_auc: 0.9570\n",
      "Epoch 19/30\n",
      "65/65 [==============================] - 2s 32ms/step - loss: 0.1175 - auc: 0.9766 - val_loss: 0.1462 - val_auc: 0.9637\n",
      "Epoch 20/30\n",
      "65/65 [==============================] - 2s 26ms/step - loss: 0.1084 - auc: 0.9794 - val_loss: 0.1425 - val_auc: 0.9637\n",
      "Epoch 21/30\n",
      "65/65 [==============================] - 2s 30ms/step - loss: 0.1040 - auc: 0.9818 - val_loss: 0.1373 - val_auc: 0.9680\n",
      "Epoch 22/30\n",
      "65/65 [==============================] - 2s 24ms/step - loss: 0.0969 - auc: 0.9836 - val_loss: 0.1378 - val_auc: 0.9669\n",
      "Epoch 23/30\n",
      "65/65 [==============================] - 2s 24ms/step - loss: 0.0907 - auc: 0.9852 - val_loss: 0.1354 - val_auc: 0.9678\n",
      "Epoch 24/30\n",
      "65/65 [==============================] - 2s 24ms/step - loss: 0.0878 - auc: 0.9864 - val_loss: 0.1422 - val_auc: 0.9639\n",
      "Epoch 25/30\n",
      "65/65 [==============================] - 1s 23ms/step - loss: 0.0837 - auc: 0.9878 - val_loss: 0.1446 - val_auc: 0.9613\n",
      "Epoch 26/30\n",
      "65/65 [==============================] - 2s 23ms/step - loss: 0.0789 - auc: 0.9884 - val_loss: 0.1339 - val_auc: 0.9641\n",
      "Epoch 27/30\n",
      "65/65 [==============================] - 2s 23ms/step - loss: 0.0738 - auc: 0.9893 - val_loss: 0.1307 - val_auc: 0.9638\n",
      "Epoch 28/30\n",
      "65/65 [==============================] - 1s 23ms/step - loss: 0.0689 - auc: 0.9912 - val_loss: 0.1476 - val_auc: 0.9624\n",
      "Epoch 29/30\n",
      "65/65 [==============================] - 2s 24ms/step - loss: 0.0690 - auc: 0.9910 - val_loss: 0.1431 - val_auc: 0.9692\n",
      "Epoch 30/30\n",
      "65/65 [==============================] - 1s 23ms/step - loss: 0.0648 - auc: 0.9917 - val_loss: 0.1446 - val_auc: 0.9638\n"
     ]
    }
   ],
   "source": [
    "# Train a model\n",
    "history = model.fit(X_train, y_train.values,\n",
    "#                     class_weight=class_weight,\n",
    "                    batch_size=batch_size, \n",
    "                    epochs=epochs, \n",
    "                    validation_split=0.1,\n",
    "                    callbacks=callbacks)"
   ]
  },
  {
   "cell_type": "markdown",
   "metadata": {},
   "source": [
    "## Evaluation "
   ]
  },
  {
   "cell_type": "code",
   "execution_count": 26,
   "metadata": {},
   "outputs": [
    {
     "name": "stdout",
     "output_type": "stream",
     "text": [
      "8/8 [==============================] - 0s 9ms/step - loss: 0.1611 - auc: 0.9598\n",
      "auc: 0.959794819355011\n"
     ]
    }
   ],
   "source": [
    "metrics = model.evaluate(X_test, y_test)\n",
    "print(\"{}: {}\".format(model.metrics_names[1], metrics[1]))"
   ]
  },
  {
   "cell_type": "code",
   "execution_count": 27,
   "metadata": {},
   "outputs": [
    {
     "name": "stdout",
     "output_type": "stream",
     "text": [
      "dict_keys(['loss', 'auc', 'val_loss', 'val_auc'])\n"
     ]
    }
   ],
   "source": [
    "print(history.history.keys())"
   ]
  },
  {
   "cell_type": "code",
   "execution_count": 28,
   "metadata": {},
   "outputs": [
    {
     "data": {
      "text/plain": [
       "<matplotlib.legend.Legend at 0x7f82ee1360f0>"
      ]
     },
     "execution_count": 28,
     "metadata": {},
     "output_type": "execute_result"
    },
    {
     "data": {
      "image/png": "[encoded data removed]",
      "text/plain": [
       "<Figure size 432x288 with 1 Axes>"
      ]
     },
     "metadata": {
      "needs_background": "light"
     },
     "output_type": "display_data"
    }
   ],
   "source": [
    "# Plot loss per iteration\n",
    "plt.plot(history.history['loss'], label='loss')\n",
    "plt.plot(history.history['val_loss'], label='val_loss')\n",
    "plt.legend()"
   ]
  },
  {
   "cell_type": "code",
   "execution_count": 29,
   "metadata": {},
   "outputs": [
    {
     "data": {
      "text/plain": [
       "<matplotlib.legend.Legend at 0x7f82edc90e80>"
      ]
     },
     "execution_count": 29,
     "metadata": {},
     "output_type": "execute_result"
    },
    {
     "data": {
      "image/png": "[encoded data removed]",
      "text/plain": [
       "<Figure size 432x288 with 1 Axes>"
      ]
     },
     "metadata": {
      "needs_background": "light"
     },
     "output_type": "display_data"
    }
   ],
   "source": [
    "# Plot accuracy per iteration\n",
    "plt.plot(history.history['auc'], label='auc')\n",
    "plt.plot(history.history['val_auc'], label='val_auc')\n",
    "plt.legend()"
   ]
  },
  {
   "cell_type": "code",
   "execution_count": 30,
   "metadata": {},
   "outputs": [
    {
     "data": {
      "text/plain": [
       "array([[0., 0., 0., 0., 0., 0., 0., 0.],\n",
       "       [0., 0., 1., 0., 0., 0., 1., 0.],\n",
       "       [0., 0., 0., 1., 0., 0., 0., 0.],\n",
       "       [0., 0., 0., 0., 0., 1., 0., 0.],\n",
       "       [0., 0., 0., 0., 0., 0., 0., 0.]], dtype=float32)"
      ]
     },
     "execution_count": 30,
     "metadata": {},
     "output_type": "execute_result"
    }
   ],
   "source": [
    "y_pred = model.predict(X_test)\n",
    "y_pred = y_pred.round()\n",
    "y_pred[:5]"
   ]
  },
  {
   "cell_type": "code",
   "execution_count": 31,
   "metadata": {},
   "outputs": [
    {
     "data": {
      "text/html": [
       "<div>\n",
       "<style scoped>\n",
       "    .dataframe tbody tr th:only-of-type {\n",
       "        vertical-align: middle;\n",
       "    }\n",
       "\n",
       "    .dataframe tbody tr th {\n",
       "        vertical-align: top;\n",
       "    }\n",
       "\n",
       "    .dataframe thead th {\n",
       "        text-align: right;\n",
       "    }\n",
       "</style>\n",
       "<table border=\"1\" class=\"dataframe\">\n",
       "  <thead>\n",
       "    <tr style=\"text-align: right;\">\n",
       "      <th></th>\n",
       "      <th>Influenza</th>\n",
       "      <th>Diarrhea</th>\n",
       "      <th>Hayfever</th>\n",
       "      <th>Cough</th>\n",
       "      <th>Headache</th>\n",
       "      <th>Fever</th>\n",
       "      <th>Runnynose</th>\n",
       "      <th>Cold</th>\n",
       "    </tr>\n",
       "  </thead>\n",
       "  <tbody>\n",
       "    <tr>\n",
       "      <th>547</th>\n",
       "      <td>0</td>\n",
       "      <td>0</td>\n",
       "      <td>0</td>\n",
       "      <td>0</td>\n",
       "      <td>0</td>\n",
       "      <td>0</td>\n",
       "      <td>0</td>\n",
       "      <td>0</td>\n",
       "    </tr>\n",
       "    <tr>\n",
       "      <th>334</th>\n",
       "      <td>0</td>\n",
       "      <td>0</td>\n",
       "      <td>0</td>\n",
       "      <td>0</td>\n",
       "      <td>1</td>\n",
       "      <td>0</td>\n",
       "      <td>0</td>\n",
       "      <td>0</td>\n",
       "    </tr>\n",
       "    <tr>\n",
       "      <th>2381</th>\n",
       "      <td>0</td>\n",
       "      <td>0</td>\n",
       "      <td>0</td>\n",
       "      <td>1</td>\n",
       "      <td>0</td>\n",
       "      <td>0</td>\n",
       "      <td>0</td>\n",
       "      <td>0</td>\n",
       "    </tr>\n",
       "    <tr>\n",
       "      <th>1698</th>\n",
       "      <td>0</td>\n",
       "      <td>0</td>\n",
       "      <td>0</td>\n",
       "      <td>0</td>\n",
       "      <td>0</td>\n",
       "      <td>1</td>\n",
       "      <td>0</td>\n",
       "      <td>0</td>\n",
       "    </tr>\n",
       "    <tr>\n",
       "      <th>1663</th>\n",
       "      <td>1</td>\n",
       "      <td>0</td>\n",
       "      <td>0</td>\n",
       "      <td>0</td>\n",
       "      <td>0</td>\n",
       "      <td>1</td>\n",
       "      <td>0</td>\n",
       "      <td>0</td>\n",
       "    </tr>\n",
       "  </tbody>\n",
       "</table>\n",
       "</div>"
      ],
      "text/plain": [
       "      Influenza  Diarrhea  Hayfever  Cough  Headache  Fever  Runnynose  Cold\n",
       "547           0         0         0      0         0      0          0     0\n",
       "334           0         0         0      0         1      0          0     0\n",
       "2381          0         0         0      1         0      0          0     0\n",
       "1698          0         0         0      0         0      1          0     0\n",
       "1663          1         0         0      0         0      1          0     0"
      ]
     },
     "execution_count": 31,
     "metadata": {},
     "output_type": "execute_result"
    }
   ],
   "source": [
    "y_test[:5]"
   ]
  },
  {
   "cell_type": "code",
   "execution_count": 32,
   "metadata": {
    "scrolled": false
   },
   "outputs": [
    {
     "data": {
      "image/png": "[encoded data removed]",
      "text/plain": [
       "<Figure size 1080x1080 with 8 Axes>"
      ]
     },
     "metadata": {
      "needs_background": "light"
     },
     "output_type": "display_data"
    }
   ],
   "source": [
    "def plot_confusion_matrix(cm, classes, title, ax):\n",
    "\n",
    "    ax.imshow(cm, interpolation='nearest', cmap=plt.cm.Blues)\n",
    "    for i, j in itertools.product(range(cm.shape[0]), range(cm.shape[1])):\n",
    "        ax.text(j, i, cm[i, j],\n",
    "                 horizontalalignment=\"center\",\n",
    "                 color=\"white\" if cm[i, j] > cm.max() / 2. else \"black\")\n",
    "\n",
    "    tick_marks = np.arange(len(classes))\n",
    "    ax.set_xticks(tick_marks), ax.xaxis.set_ticklabels(classes)\n",
    "    ax.set_yticks(tick_marks), ax.yaxis.set_ticklabels(classes)\n",
    "    ax.set_xlabel('Predicted')\n",
    "    ax.set_ylabel('Truth')\n",
    "    ax.set_title(title)\n",
    "    ax.grid(False)\n",
    "    \n",
    "def plot_multiclass_confusion_matrix(y_true, y_pred, label_to_class, save_plot=False):\n",
    "    fig, axes = plt.subplots(int(np.ceil(len(label_to_class) / 2)), 2, figsize=(15, 15))\n",
    "    axes = axes.flatten()\n",
    "    for i, conf_matrix in enumerate(multilabel_confusion_matrix(y_true, y_pred)):\n",
    "        tn, fp, fn, tp = conf_matrix.ravel()\n",
    "        f1 = 2 * tp / (2 * tp + fp + fn + sys.float_info.epsilon)\n",
    "        recall = tp / (tp + fn + sys.float_info.epsilon)\n",
    "        precision = tp / (tp + fp + sys.float_info.epsilon)\n",
    "        plot_confusion_matrix(\n",
    "            np.array([[tp, fn], [fp, tn]]),\n",
    "            classes=['+', '-'],\n",
    "            title=f'Label: {label_to_class[i]}\\nf1={f1:.5f}\\nrecall={recall:.5f}\\nprecision={precision:.5f}',\n",
    "            ax=axes[i]\n",
    "        )\n",
    "        plt.tight_layout()\n",
    "    if save_plot:\n",
    "        plt.savefig('confusion_matrices.png', dpi=50)\n",
    "        \n",
    "plot_multiclass_confusion_matrix(y_test, y_pred, categories)"
   ]
  },
  {
   "cell_type": "code",
   "execution_count": 33,
   "metadata": {},
   "outputs": [
    {
     "name": "stdout",
     "output_type": "stream",
     "text": [
      "              precision    recall  f1-score   support\n",
      "\n",
      "   Influenza       0.83      0.67      0.74        15\n",
      "    Diarrhea       0.88      0.96      0.92        24\n",
      "    Hayfever       0.48      0.53      0.50        19\n",
      "       Cough       0.94      0.91      0.92        33\n",
      "    Headache       0.71      0.59      0.64        29\n",
      "       Fever       0.84      0.79      0.81        52\n",
      "   Runnynose       0.62      0.87      0.72        45\n",
      "        Cold       0.83      0.94      0.88        36\n",
      "\n",
      "   micro avg       0.76      0.81      0.78       253\n",
      "   macro avg       0.77      0.78      0.77       253\n",
      "weighted avg       0.77      0.81      0.78       253\n",
      " samples avg       0.61      0.59      0.59       253\n",
      "\n"
     ]
    }
   ],
   "source": [
    "print(classification_report(y_test.values, y_pred, target_names=categories))"
   ]
  },
  {
   "cell_type": "code",
   "execution_count": 34,
   "metadata": {},
   "outputs": [
    {
     "name": "stdout",
     "output_type": "stream",
     "text": [
      "Hamming_loss: 0.05517578125\n"
     ]
    }
   ],
   "source": [
    "print(\"Hamming_loss:\", hamming_loss(y_test.values, y_pred))"
   ]
  },
  {
   "cell_type": "code",
   "execution_count": 35,
   "metadata": {},
   "outputs": [
    {
     "name": "stdout",
     "output_type": "stream",
     "text": [
      "[ 61   3 966   0   0   0   0   0   0   0   0   0   0   0   0   0   0   0\n",
      "   0   0   0   0   0   0   0   0   0]\n"
     ]
    }
   ],
   "source": [
    "print(X_test[0])"
   ]
  },
  {
   "cell_type": "code",
   "execution_count": 36,
   "metadata": {
    "scrolled": false
   },
   "outputs": [
    {
     "name": "stdout",
     "output_type": "stream",
     "text": [
      "True\n",
      "Text: bird flu horrifi\n",
      "Truth: [0 0 0 0 0 0 0 0]\n",
      "Predicted: [0 0 0 0 0 0 0 0]\n",
      "\n",
      "\n",
      "False\n",
      "Text: given headach medicin not work all\n",
      "Truth: [0 0 0 0 1 0 0 0]\n",
      "Predicted: [0 0 1 0 0 0 1 0]\n",
      "\n",
      "\n",
      "True\n",
      "Text: cough day exhaust\n",
      "Truth: [0 0 0 1 0 0 0 0]\n",
      "Predicted: [0 0 0 1 0 0 0 0]\n",
      "\n",
      "\n",
      "True\n",
      "Text: got fever wonder caught diseas\n",
      "Truth: [0 0 0 0 0 1 0 0]\n",
      "Predicted: [0 0 0 0 0 1 0 0]\n",
      "\n",
      "\n",
      "False\n",
      "Text: got flu shot\n",
      "Truth: [1 0 0 0 0 1 0 0]\n",
      "Predicted: [0 0 0 0 0 0 0 0]\n",
      "\n",
      "\n"
     ]
    }
   ],
   "source": [
    "for i in range(5):\n",
    "    predictions = model.predict(np.expand_dims(X_test[i], 0))\n",
    "    print((y_test.iloc[i].values == predictions.round()[0]).all())\n",
    "    print(\"Text:\", tokenizer.sequences_to_texts([X_test[i]])[0])\n",
    "    print(\"Truth:\", y_test.iloc[i].values)\n",
    "    print(\"Predicted:\", predictions.round()[0].astype(int))\n",
    "    print(\"\\n\")"
   ]
  }
 ],
 "metadata": {
  "kernelspec": {
   "display_name": "Python 3",
   "language": "python",
   "name": "python3"
  },
  "language_info": {
   "codemirror_mode": {
    "name": "ipython",
    "version": 3
   },
   "file_extension": ".py",
   "mimetype": "text/x-python",
   "name": "python",
   "nbconvert_exporter": "python",
   "pygments_lexer": "ipython3",
   "version": "3.7.2"
  }
 },
 "nbformat": 4,
 "nbformat_minor": 2
}
