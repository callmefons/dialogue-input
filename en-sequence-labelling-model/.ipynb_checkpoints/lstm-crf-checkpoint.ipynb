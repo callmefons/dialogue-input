{
 "cells": [
  {
   "cell_type": "code",
   "execution_count": 96,
   "metadata": {},
   "outputs": [
    {
     "name": "stdout",
     "output_type": "stream",
     "text": [
      "1.13.1\n"
     ]
    }
   ],
   "source": [
    "import os\n",
    "import pandas as pd\n",
    "import numpy as np\n",
    "import matplotlib.pyplot as plt\n",
    "import seaborn as sns\n",
    "\n",
    "import tensorflow as tf\n",
    "from tensorflow.keras import backend\n",
    "from keras.preprocessing.sequence import pad_sequences\n",
    "from keras.utils import to_categorical\n",
    "from keras.models import Model, Input\n",
    "from keras.layers import LSTM, Embedding, Dense, TimeDistributed, Dropout, Bidirectional\n",
    "from keras_contrib.layers import CRF\n",
    "\n",
    "from sklearn.model_selection import train_test_split\n",
    "from sklearn_crfsuite.metrics import flat_classification_report\n",
    "    \n",
    "print(tf.__version__)"
   ]
  },
  {
   "cell_type": "code",
   "execution_count": 73,
   "metadata": {},
   "outputs": [],
   "source": [
    "# Hyperparams if GPU is available\n",
    "if tf.test.is_gpu_available():\n",
    "    BATCH_SIZE = 512  # Number of examples used in each iteration\n",
    "    EPOCHS = 5  # Number of passes through entire dataset\n",
    "    MAX_LEN = 20  # Max length of review (in words)\n",
    "    EMBEDDING = 40  # Dimension of word embedding vector\n",
    "# Hyperparams for CPU training\n",
    "else:\n",
    "    BATCH_SIZE = 32\n",
    "    EPOCHS = 20\n",
    "    MAX_LEN = 75\n",
    "    EMBEDDING = 32"
   ]
  },
  {
   "cell_type": "code",
   "execution_count": 69,
   "metadata": {},
   "outputs": [
    {
     "name": "stdout",
     "output_type": "stream",
     "text": [
      "Number of sentences:  1778\n",
      "Number of words in the dataset:  5838\n",
      "Tags: ['B-FREQUENCY', 'I-DRUG', 'I-STRENGTH', 'O', 'I-ROUTE', 'B-FORM', 'B-DOSAGE', 'B-DRUG', 'B-STRENGTH', 'B-DURATION', 'I-DURATION', 'I-DOSAGE', 'B-ROUTE', 'I-FREQUENCY']\n",
      "Number of Labels:  14\n",
      "What the dataset looks like:\n"
     ]
    },
    {
     "data": {
      "text/html": [
       "<div>\n",
       "<style scoped>\n",
       "    .dataframe tbody tr th:only-of-type {\n",
       "        vertical-align: middle;\n",
       "    }\n",
       "\n",
       "    .dataframe tbody tr th {\n",
       "        vertical-align: top;\n",
       "    }\n",
       "\n",
       "    .dataframe thead th {\n",
       "        text-align: right;\n",
       "    }\n",
       "</style>\n",
       "<table border=\"1\" class=\"dataframe\">\n",
       "  <thead>\n",
       "    <tr style=\"text-align: right;\">\n",
       "      <th></th>\n",
       "      <th>Unnamed: 0</th>\n",
       "      <th>Sentence #</th>\n",
       "      <th>Word</th>\n",
       "      <th>POS</th>\n",
       "      <th>Tag</th>\n",
       "    </tr>\n",
       "  </thead>\n",
       "  <tbody>\n",
       "    <tr>\n",
       "      <th>0</th>\n",
       "      <td>0</td>\n",
       "      <td>Sentence: 0</td>\n",
       "      <td>Slight</td>\n",
       "      <td>ADJ</td>\n",
       "      <td>O</td>\n",
       "    </tr>\n",
       "    <tr>\n",
       "      <th>1</th>\n",
       "      <td>1</td>\n",
       "      <td>Sentence: 0</td>\n",
       "      <td>wean</td>\n",
       "      <td>NOUN</td>\n",
       "      <td>O</td>\n",
       "    </tr>\n",
       "    <tr>\n",
       "      <th>2</th>\n",
       "      <td>2</td>\n",
       "      <td>Sentence: 0</td>\n",
       "      <td>of</td>\n",
       "      <td>ADP</td>\n",
       "      <td>O</td>\n",
       "    </tr>\n",
       "    <tr>\n",
       "      <th>3</th>\n",
       "      <td>3</td>\n",
       "      <td>Sentence: 0</td>\n",
       "      <td>Levo</td>\n",
       "      <td>PROPN</td>\n",
       "      <td>B-DRUG</td>\n",
       "    </tr>\n",
       "    <tr>\n",
       "      <th>4</th>\n",
       "      <td>4</td>\n",
       "      <td>Sentence: 0</td>\n",
       "      <td>.</td>\n",
       "      <td>PROPN</td>\n",
       "      <td>O</td>\n",
       "    </tr>\n",
       "    <tr>\n",
       "      <th>5</th>\n",
       "      <td>5</td>\n",
       "      <td>Sentence: 0</td>\n",
       "      <td>.</td>\n",
       "      <td>PROPN</td>\n",
       "      <td>O</td>\n",
       "    </tr>\n",
       "    <tr>\n",
       "      <th>6</th>\n",
       "      <td>6</td>\n",
       "      <td>Sentence: 0</td>\n",
       "      <td>tolerated</td>\n",
       "      <td>VERB</td>\n",
       "      <td>O</td>\n",
       "    </tr>\n",
       "    <tr>\n",
       "      <th>7</th>\n",
       "      <td>7</td>\n",
       "      <td>Sentence: 0</td>\n",
       "      <td>to</td>\n",
       "      <td>PART</td>\n",
       "      <td>O</td>\n",
       "    </tr>\n",
       "    <tr>\n",
       "      <th>8</th>\n",
       "      <td>8</td>\n",
       "      <td>Sentence: 0</td>\n",
       "      <td>maintain</td>\n",
       "      <td>VERB</td>\n",
       "      <td>O</td>\n",
       "    </tr>\n",
       "    <tr>\n",
       "      <th>9</th>\n",
       "      <td>9</td>\n",
       "      <td>Sentence: 0</td>\n",
       "      <td>Map</td>\n",
       "      <td>PROPN</td>\n",
       "      <td>O</td>\n",
       "    </tr>\n",
       "  </tbody>\n",
       "</table>\n",
       "</div>"
      ],
      "text/plain": [
       "   Unnamed: 0   Sentence #       Word    POS     Tag\n",
       "0           0  Sentence: 0     Slight    ADJ       O\n",
       "1           1  Sentence: 0       wean   NOUN       O\n",
       "2           2  Sentence: 0         of    ADP       O\n",
       "3           3  Sentence: 0       Levo  PROPN  B-DRUG\n",
       "4           4  Sentence: 0          .  PROPN       O\n",
       "5           5  Sentence: 0          .  PROPN       O\n",
       "6           6  Sentence: 0  tolerated   VERB       O\n",
       "7           7  Sentence: 0         to   PART       O\n",
       "8           8  Sentence: 0   maintain   VERB       O\n",
       "9           9  Sentence: 0        Map  PROPN       O"
      ]
     },
     "execution_count": 69,
     "metadata": {},
     "output_type": "execute_result"
    }
   ],
   "source": [
    "data = pd.read_csv(\"./data/drug_bio_all.csv\", encoding=\"utf8\")\n",
    "data = data.fillna(method=\"ffill\")\n",
    "print(\"Number of sentences: \", len(data.groupby(['Sentence #'])))\n",
    "words = list(set(data[\"Word\"].values))\n",
    "n_words = len(words)\n",
    "print(\"Number of words in the dataset: \", n_words)\n",
    "tags = list(set(data[\"Tag\"].values))\n",
    "print(\"Tags:\", tags)\n",
    "n_tags = len(tags)\n",
    "print(\"Number of Labels: \", n_tags)\n",
    "print(\"What the dataset looks like:\")\n",
    "# Show the first 10 rows\n",
    "data.head(n=10)"
   ]
  },
  {
   "cell_type": "code",
   "execution_count": 90,
   "metadata": {},
   "outputs": [],
   "source": [
    "class SentenceGetter(object):\n",
    "    def __init__(self, data):\n",
    "        self.n_sent = 1\n",
    "        self.data = data\n",
    "        self.empty = False\n",
    "        agg_func = lambda s: [(w, p, t) for w, p, t in zip(s[\"Word\"].values.tolist(),\n",
    "                                                           s[\"POS\"].values.tolist(),\n",
    "                                                           s[\"Tag\"].values.tolist())]\n",
    "        self.grouped = self.data.groupby(\"Sentence #\").apply(agg_func)\n",
    "        self.sentences = [s for s in self.grouped]\n",
    "    \n",
    "    def get_next(self):\n",
    "        try:\n",
    "            s = self.grouped[\"Sentence: {}\".format(self.n_sent)]\n",
    "            self.n_sent += 1\n",
    "            return s\n",
    "        except:\n",
    "            return None"
   ]
  },
  {
   "cell_type": "code",
   "execution_count": 94,
   "metadata": {},
   "outputs": [],
   "source": [
    "getter = SentenceGetter(data)\n",
    "sent = getter.get_next()\n",
    "sentences = getter.sentences"
   ]
  },
  {
   "cell_type": "code",
   "execution_count": 95,
   "metadata": {},
   "outputs": [
    {
     "name": "stdout",
     "output_type": "stream",
     "text": [
      "Raw Sample:  Slight wean of Levo . . tolerated to maintain Map goal > = 50 . .\n",
      "Raw Label:  O O O B-DRUG O O O O O O O O O O O O\n",
      "Processed sample: [2281  816 2078 5049 2511]\n",
      "Processed labels: [[0. 0. 0. 0. 1. 0. 0. 0. 0. 0. 0. 0. 0. 0. 0.]\n",
      " [0. 0. 0. 0. 1. 0. 0. 0. 0. 0. 0. 0. 0. 0. 0.]\n",
      " [0. 0. 0. 0. 1. 0. 0. 0. 0. 0. 0. 0. 0. 0. 0.]\n",
      " [0. 0. 0. 0. 0. 0. 0. 0. 1. 0. 0. 0. 0. 0. 0.]\n",
      " [0. 0. 0. 0. 1. 0. 0. 0. 0. 0. 0. 0. 0. 0. 0.]]\n"
     ]
    }
   ],
   "source": [
    "word2idx = {w: i + 2 for i, w in enumerate(words)}\n",
    "word2idx[\"UNK\"] = 1 # Unknown words\n",
    "word2idx[\"PAD\"] = 0 # Padding\n",
    "idx2word = {i: w for w, i in word2idx.items()}\n",
    "\n",
    "tag2idx = {t: i+1 for i, t in enumerate(tags)}\n",
    "tag2idx[\"PAD\"] = 0\n",
    "idx2tag = {i: w for w, i in tag2idx.items()}\n",
    "\n",
    "X = [[word2idx[w[0]] for w in s] for s in sentences]\n",
    "X = pad_sequences(maxlen=MAX_LEN, sequences=X, padding=\"post\", value=word2idx[\"PAD\"])\n",
    "\n",
    "y = [[tag2idx[w[2]] for w in s] for s in sentences]\n",
    "y = pad_sequences(maxlen=MAX_LEN, sequences=y, padding=\"post\", value=tag2idx[\"PAD\"])\n",
    "\n",
    "y = [to_categorical(i, num_classes=n_tags+1) for i in y]  # n_tags+1(PAD)\n",
    "\n",
    "X_tr, X_te, y_tr, y_te = train_test_split(X, y, test_size=0.2)\n",
    "X_tr.shape, X_te.shape, np.array(y_tr).shape, np.array(y_te).shape\n",
    "\n",
    "print('Raw Sample: ', ' '.join([w[0] for w in sentences[0]]))\n",
    "print('Raw Label: ', ' '.join([w[2] for w in sentences[0]]))\n",
    "print('Processed sample:', X[0][:5])\n",
    "print('Processed labels:', y[0][:5])"
   ]
  },
  {
   "cell_type": "code",
   "execution_count": 58,
   "metadata": {},
   "outputs": [],
   "source": [
    "# Define a simple sequential model\n",
    "def create_model():\n",
    "    # Model definition\n",
    "    input = Input(shape=(MAX_LEN,))\n",
    "    model = Embedding(input_dim=n_words+2, output_dim=EMBEDDING, # n_words + 2 (PAD & UNK)\n",
    "                      input_length=MAX_LEN, mask_zero=True)(input) \n",
    "    model = Bidirectional(LSTM(units=50, return_sequences=True,\n",
    "                               recurrent_dropout=0.1))(model)  # variational biLSTM\n",
    "    model = TimeDistributed(Dense(50, activation=\"relu\"))(model)  # a dense layer as suggested by neuralNer\n",
    "    crf = CRF(n_tags+1)  # CRF layer, n_tags+1(PAD)\n",
    "    out = crf(model)  # output\n",
    "    model = Model(input, out)\n",
    "    model.compile(optimizer=\"rmsprop\", loss=crf.loss_function, metrics=[crf.accuracy])\n",
    "    \n",
    "    return model"
   ]
  },
  {
   "cell_type": "code",
   "execution_count": 55,
   "metadata": {},
   "outputs": [],
   "source": [
    "checkpoint_path = \"training/cp-{epoch:04d}.ckpt\"\n",
    "checkpoint_dir = os.path.dirname(checkpoint_path)\n",
    "\n",
    "cp_callback = tf.keras.callbacks.ModelCheckpoint(\n",
    "    filepath=checkpoint_path, \n",
    "    verbose=1, \n",
    "    save_weights_only=True,\n",
    "    period=5)\n",
    "\n",
    "model.save_weights(checkpoint_path.format(epoch=0))"
   ]
  },
  {
   "cell_type": "code",
   "execution_count": 57,
   "metadata": {
    "scrolled": false
   },
   "outputs": [
    {
     "name": "stdout",
     "output_type": "stream",
     "text": [
      "Train on 1422 samples, validate on 356 samples\n",
      "Epoch 1/20\n",
      " - 8s - loss: 11.0035 - crf_viterbi_accuracy: 0.6618 - val_loss: 10.9471 - val_crf_viterbi_accuracy: 0.8365\n",
      "Epoch 2/20\n",
      " - 8s - loss: 10.3157 - crf_viterbi_accuracy: 0.8382 - val_loss: 10.7370 - val_crf_viterbi_accuracy: 0.8406\n",
      "Epoch 3/20\n",
      " - 9s - loss: 10.1129 - crf_viterbi_accuracy: 0.8537 - val_loss: 10.5606 - val_crf_viterbi_accuracy: 0.8649\n",
      "Epoch 4/20\n",
      " - 9s - loss: 9.9644 - crf_viterbi_accuracy: 0.8838 - val_loss: 10.4740 - val_crf_viterbi_accuracy: 0.8928\n",
      "Epoch 5/20\n",
      " - 9s - loss: 9.8814 - crf_viterbi_accuracy: 0.9093 - val_loss: 10.4331 - val_crf_viterbi_accuracy: 0.9063\n",
      "Epoch 6/20\n",
      " - 9s - loss: 9.8335 - crf_viterbi_accuracy: 0.9197 - val_loss: 10.4153 - val_crf_viterbi_accuracy: 0.9085\n",
      "Epoch 7/20\n",
      " - 9s - loss: 9.7975 - crf_viterbi_accuracy: 0.9278 - val_loss: 10.3920 - val_crf_viterbi_accuracy: 0.9177\n",
      "Epoch 8/20\n",
      " - 8s - loss: 9.7666 - crf_viterbi_accuracy: 0.9340 - val_loss: 10.3694 - val_crf_viterbi_accuracy: 0.9223\n",
      "Epoch 9/20\n",
      " - 8s - loss: 9.7382 - crf_viterbi_accuracy: 0.9393 - val_loss: 10.3642 - val_crf_viterbi_accuracy: 0.9275\n",
      "Epoch 10/20\n",
      " - 8s - loss: 9.7065 - crf_viterbi_accuracy: 0.9462 - val_loss: 10.3376 - val_crf_viterbi_accuracy: 0.9264\n",
      "Epoch 11/20\n",
      " - 8s - loss: 9.6755 - crf_viterbi_accuracy: 0.9521 - val_loss: 10.3120 - val_crf_viterbi_accuracy: 0.9349\n",
      "Epoch 12/20\n",
      " - 12s - loss: 9.6499 - crf_viterbi_accuracy: 0.9561 - val_loss: 10.3008 - val_crf_viterbi_accuracy: 0.9337\n",
      "Epoch 13/20\n",
      " - 9s - loss: 9.6296 - crf_viterbi_accuracy: 0.9590 - val_loss: 10.2812 - val_crf_viterbi_accuracy: 0.9385\n",
      "Epoch 14/20\n",
      " - 9s - loss: 9.6122 - crf_viterbi_accuracy: 0.9622 - val_loss: 10.2883 - val_crf_viterbi_accuracy: 0.9307\n",
      "Epoch 15/20\n",
      " - 10s - loss: 9.5977 - crf_viterbi_accuracy: 0.9647 - val_loss: 10.2660 - val_crf_viterbi_accuracy: 0.9363\n",
      "Epoch 16/20\n",
      " - 10s - loss: 9.5843 - crf_viterbi_accuracy: 0.9668 - val_loss: 10.2479 - val_crf_viterbi_accuracy: 0.9428\n",
      "Epoch 17/20\n",
      " - 8s - loss: 9.5710 - crf_viterbi_accuracy: 0.9695 - val_loss: 10.2343 - val_crf_viterbi_accuracy: 0.9442\n",
      "Epoch 18/20\n",
      " - 9s - loss: 9.5585 - crf_viterbi_accuracy: 0.9720 - val_loss: 10.2288 - val_crf_viterbi_accuracy: 0.9465\n",
      "Epoch 19/20\n",
      " - 10s - loss: 9.5461 - crf_viterbi_accuracy: 0.9735 - val_loss: 10.2287 - val_crf_viterbi_accuracy: 0.9453\n",
      "Epoch 20/20\n",
      " - 8s - loss: 9.5367 - crf_viterbi_accuracy: 0.9757 - val_loss: 10.2217 - val_crf_viterbi_accuracy: 0.9475\n"
     ]
    }
   ],
   "source": [
    "history = model.fit(X_tr, np.array(y_tr), batch_size=BATCH_SIZE, \n",
    "                    validation_data=(X_te, np.array(y_te)),\n",
    "                    epochs=EPOCHS,validation_split=0.1, verbose=2)"
   ]
  },
  {
   "cell_type": "code",
   "execution_count": 49,
   "metadata": {},
   "outputs": [
    {
     "name": "stdout",
     "output_type": "stream",
     "text": [
      "              precision    recall  f1-score   support\n",
      "\n",
      "    B-DOSAGE     0.5676    0.6495    0.6058        97\n",
      "      B-DRUG     0.8664    0.8770    0.8717       732\n",
      "  B-DURATION     0.0000    0.0000    0.0000         3\n",
      "      B-FORM     0.7000    0.1228    0.2090        57\n",
      " B-FREQUENCY     0.6420    0.4643    0.5389       112\n",
      "     B-ROUTE     0.8023    0.8866    0.8423       238\n",
      "  B-STRENGTH     0.7945    0.7117    0.7508       163\n",
      "    I-DOSAGE     0.4800    0.4286    0.4528        28\n",
      "      I-DRUG     0.1852    0.1042    0.1333        48\n",
      "  I-DURATION     0.0000    0.0000    0.0000         2\n",
      " I-FREQUENCY     0.7308    0.3220    0.4471        59\n",
      "     I-ROUTE     0.0000    0.0000    0.0000        16\n",
      "  I-STRENGTH     0.9044    0.8775    0.8908       302\n",
      "           O     0.9691    0.9826    0.9758      9566\n",
      "         PAD     1.0000    1.0000    1.0000     15277\n",
      "\n",
      "    accuracy                         0.9764     26700\n",
      "   macro avg     0.5761    0.4951    0.5145     26700\n",
      "weighted avg     0.9741    0.9764    0.9745     26700\n",
      "\n"
     ]
    },
    {
     "name": "stderr",
     "output_type": "stream",
     "text": [
      "/Users/tittaya/.pyenv/versions/anaconda3-5.3.1/lib/python3.7/site-packages/sklearn/metrics/classification.py:1437: UndefinedMetricWarning: Precision and F-score are ill-defined and being set to 0.0 in labels with no predicted samples.\n",
      "  'precision', 'predicted', average, warn_for)\n",
      "/Users/tittaya/.pyenv/versions/anaconda3-5.3.1/lib/python3.7/site-packages/sklearn/metrics/classification.py:1437: UndefinedMetricWarning: Precision and F-score are ill-defined and being set to 0.0 in labels with no predicted samples.\n",
      "  'precision', 'predicted', average, warn_for)\n",
      "/Users/tittaya/.pyenv/versions/anaconda3-5.3.1/lib/python3.7/site-packages/sklearn/metrics/classification.py:1437: UndefinedMetricWarning: Precision and F-score are ill-defined and being set to 0.0 in labels with no predicted samples.\n",
      "  'precision', 'predicted', average, warn_for)\n"
     ]
    }
   ],
   "source": [
    "pred_cat = model.predict(X_te)\n",
    "pred = np.argmax(pred_cat, axis=-1)\n",
    "y_te_true = np.argmax(y_te, -1)\n",
    "\n",
    "pred_tag = [[idx2tag[i] for i in row] for row in pred]\n",
    "y_te_true_tag = [[idx2tag[i] for i in row] for row in y_te_true] \n",
    "\n",
    "report = flat_classification_report(y_pred=pred_tag, y_true=y_te_true_tag, digits=4)\n",
    "print(report)"
   ]
  },
  {
   "cell_type": "code",
   "execution_count": 51,
   "metadata": {},
   "outputs": [
    {
     "name": "stdout",
     "output_type": "stream",
     "text": [
      "dict_keys(['val_loss', 'val_crf_viterbi_accuracy', 'loss', 'crf_viterbi_accuracy'])\n"
     ]
    },
    {
     "data": {
      "image/png": "[encoded data removed]",
      "text/plain": [
       "<Figure size 400x400 with 1 Axes>"
      ]
     },
     "metadata": {},
     "output_type": "display_data"
    }
   ],
   "source": [
    "# list all data in history\n",
    "print(history.history.keys())\n",
    "\n",
    "# Set size and color for plots\n",
    "sns.reset_defaults()\n",
    "sns.set(rc={'figure.figsize':(4,4)},style=\"white\")\n",
    "color = 'cornflowerblue'\n",
    "linestyles = ['-', '--', '-.', ':']\n",
    "\n",
    "# summarize history for accuracy\n",
    "plt.plot(history.history['crf_viterbi_accuracy'], linestyle=linestyles[0], color=color, linewidth=2)\n",
    "plt.plot(history.history['val_crf_viterbi_accuracy'], linestyle=linestyles[1], color=color, linewidth=2)\n",
    "plt.title('Model accuracy')\n",
    "plt.ylabel('Accuracy')\n",
    "plt.xlabel('Epoch')\n",
    "plt.legend(['Train', 'Test'], loc='upper left')\n",
    "# plt.tight_layout()\n",
    "plt.savefig('./figures/model_acc.png')\n",
    "plt.show()"
   ]
  },
  {
   "cell_type": "code",
   "execution_count": 62,
   "metadata": {},
   "outputs": [
    {
     "name": "stderr",
     "output_type": "stream",
     "text": [
      "/Users/tittaya/.pyenv/versions/anaconda3-5.3.1/lib/python3.7/site-packages/keras_contrib/layers/crf.py:346: UserWarning: CRF.loss_function is deprecated and it might be removed in the future. Please use losses.crf_loss instead.\n",
      "  warnings.warn('CRF.loss_function is deprecated '\n",
      "/Users/tittaya/.pyenv/versions/anaconda3-5.3.1/lib/python3.7/site-packages/keras_contrib/layers/crf.py:353: UserWarning: CRF.accuracy is deprecated and it might be removed in the future. Please use metrics.crf_accuracy\n",
      "  warnings.warn('CRF.accuracy is deprecated and it '\n"
     ]
    },
    {
     "name": "stdout",
     "output_type": "stream",
     "text": [
      "Untrained model, accuracy:  1.77%\n",
      "Restored model, accuracy: 94.75%\n"
     ]
    }
   ],
   "source": [
    "# Create a basic model instance\n",
    "new_model = create_model()\n",
    "\n",
    "# Evaluate the model\n",
    "loss, acc = new_model.evaluate(X_te, np.array(y_te), verbose=2)\n",
    "print(\"Untrained model, accuracy: {:5.2f}%\".format(100*acc))\n",
    "\n",
    "# Loads the weights\n",
    "new_model.load_weights('./training/cp-0000.ckpt')\n",
    "\n",
    "# Re-evaluate the model\n",
    "loss,acc = model.evaluate(X_te, np.array(y_te), verbose=2)\n",
    "print(\"Restored model, accuracy: {:5.2f}%\".format(100*acc))"
   ]
  },
  {
   "cell_type": "code",
   "execution_count": null,
   "metadata": {},
   "outputs": [],
   "source": []
  }
 ],
 "metadata": {
  "kernelspec": {
   "display_name": "Python 3",
   "language": "python",
   "name": "python3"
  },
  "language_info": {
   "codemirror_mode": {
    "name": "ipython",
    "version": 3
   },
   "file_extension": ".py",
   "mimetype": "text/x-python",
   "name": "python",
   "nbconvert_exporter": "python",
   "pygments_lexer": "ipython3",
   "version": "3.7.2"
  }
 },
 "nbformat": 4,
 "nbformat_minor": 2
}
