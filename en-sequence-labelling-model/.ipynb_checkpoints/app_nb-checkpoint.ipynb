{
 "cells": [
  {
   "cell_type": "code",
   "execution_count": 4,
   "metadata": {},
   "outputs": [
    {
     "name": "stdout",
     "output_type": "stream",
     "text": [
      "Overwriting app.py\n"
     ]
    }
   ],
   "source": [
    "%%writefile app.py\n",
    "import os\n",
    "from flask import Flask, jsonify,request\n",
    "from flask_cors import CORS\n",
    "\n",
    "import spacy\n",
    "med7 = spacy.load(\"en_core_med7_lg\")\n",
    "\n",
    "app = Flask(__name__)\n",
    "CORS(app)\n",
    "\n",
    "@app.route(\"/\")\n",
    "def main():\n",
    "    return \"Hello World!\"\n",
    "\n",
    "@app.route(\"/predict\",methods=[\"POST\"])\n",
    "def predict():\n",
    "    text = request.form.get('text')\n",
    "    doc = med7(text)\n",
    "    labels = []\n",
    "    wordDicts = {}\n",
    "    for ent in doc.ents: \n",
    "        if str(ent.label_) in wordDicts:\n",
    "            labels.append(wordDicts.copy())  \n",
    "            wordDicts.clear()\n",
    "            wordDicts[str(ent.label_)] = ent.text\n",
    "        else:\n",
    "            wordDicts[str(ent.label_)] = ent.text\n",
    "    \n",
    "    labels.append(wordDicts.copy())       \n",
    "    \n",
    "    return jsonify(labels)\n",
    "    \n",
    "if __name__ == \"__main__\":        \n",
    "    app.run(host='0.0.0.0', port=8080, debug=False, use_reloader=False)"
   ]
  },
  {
   "cell_type": "code",
   "execution_count": null,
   "metadata": {},
   "outputs": [],
   "source": []
  }
 ],
 "metadata": {
  "kernelspec": {
   "display_name": "Python 3",
   "language": "python",
   "name": "python3"
  },
  "language_info": {
   "codemirror_mode": {
    "name": "ipython",
    "version": 3
   },
   "file_extension": ".py",
   "mimetype": "text/x-python",
   "name": "python",
   "nbconvert_exporter": "python",
   "pygments_lexer": "ipython3",
   "version": "3.7.2"
  }
 },
 "nbformat": 4,
 "nbformat_minor": 2
}
